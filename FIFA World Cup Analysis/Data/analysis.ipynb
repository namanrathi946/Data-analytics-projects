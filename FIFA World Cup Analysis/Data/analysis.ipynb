# FIFA World Cup Analysis
This notebook contains the analysis of the FIFA World Cup dataset.
import pandas as pd
import matplotlib.pyplot as plt

# Load the cleaned dataset
df = pd.read_csv('data/cleaned_world_cup_data.csv')

# Display the first few rows of the dataset
df.head()
## Goals Analysis
Let's analyze the goal-scoring trends across different World Cup editions.
# Plot the number of goals per year
plt.figure(figsize=(10,6))
plt.plot(df['Year'], df['Goals'], marker='o')
plt.title('Goals Scored in Each World Cup')
plt.xlabel('Year')
plt.ylabel('Goals Scored')
plt.grid(True)
plt.show()
